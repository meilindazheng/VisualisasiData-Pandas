{
 "cells": [
  {
   "attachments": {
    "pandas.png": {
     "image/png": "[encoded data removed]"
    }
   },
   "cell_type": "markdown",
   "metadata": {},
   "source": [
    "![pandas.png](attachment:pandas.png)"
   ]
  },
  {
   "cell_type": "markdown",
   "metadata": {},
   "source": [
    "## [17] Resampling Data Deret Waktu (Time Series Data)"
   ]
  },
  {
   "cell_type": "markdown",
   "metadata": {},
   "source": [
    "### [17.1] Import Module"
   ]
  },
  {
   "cell_type": "code",
   "execution_count": 2,
   "metadata": {},
   "outputs": [
    {
     "name": "stdout",
     "output_type": "stream",
     "text": [
      "1.0.5\n",
      "1.18.5\n"
     ]
    }
   ],
   "source": [
    "import pandas as pd\n",
    "import numpy as np\n",
    "#mencetak versi pandas dan numpy yang akan digunakan\n",
    "print(pd.__version__)\n",
    "print(np.__version__)"
   ]
  },
  {
   "cell_type": "markdown",
   "metadata": {},
   "source": [
    "### [17.2] Persiapan Data Frame\n",
    "- Jumlah baris yang akan dibentuk adalah 365 x 24 \n",
    "- 24 merepresentasikan 24 jam dalam 1 hari\n",
    "- 365 merepresentasikan jumlah hari dalam 1 tahun\n",
    "- karena kita akan bermain dengan waktu, maka pada index dipanggil pd.util.testing.makeDateIndex()"
   ]
  },
  {
   "cell_type": "code",
   "execution_count": 3,
   "metadata": {},
   "outputs": [
    {
     "name": "stderr",
     "output_type": "stream",
     "text": [
      "C:\\Users\\ASUS\\anaconda3\\lib\\site-packages\\pandas\\util\\__init__.py:12: FutureWarning: pandas.util.testing is deprecated. Use the functions in the public API at pandas.testing instead.\n",
      "  import pandas.util.testing\n"
     ]
    },
    {
     "data": {
      "text/html": [
       "<div>\n",
       "<style scoped>\n",
       "    .dataframe tbody tr th:only-of-type {\n",
       "        vertical-align: middle;\n",
       "    }\n",
       "\n",
       "    .dataframe tbody tr th {\n",
       "        vertical-align: top;\n",
       "    }\n",
       "\n",
       "    .dataframe thead th {\n",
       "        text-align: right;\n",
       "    }\n",
       "</style>\n",
       "<table border=\"1\" class=\"dataframe\">\n",
       "  <thead>\n",
       "    <tr style=\"text-align: right;\">\n",
       "      <th></th>\n",
       "      <th>col1</th>\n",
       "      <th>col2</th>\n",
       "    </tr>\n",
       "  </thead>\n",
       "  <tbody>\n",
       "    <tr>\n",
       "      <th>2000-01-01 00:00:00</th>\n",
       "      <td>4</td>\n",
       "      <td>16</td>\n",
       "    </tr>\n",
       "    <tr>\n",
       "      <th>2000-01-01 01:00:00</th>\n",
       "      <td>11</td>\n",
       "      <td>15</td>\n",
       "    </tr>\n",
       "    <tr>\n",
       "      <th>2000-01-01 02:00:00</th>\n",
       "      <td>18</td>\n",
       "      <td>16</td>\n",
       "    </tr>\n",
       "    <tr>\n",
       "      <th>2000-01-01 03:00:00</th>\n",
       "      <td>11</td>\n",
       "      <td>18</td>\n",
       "    </tr>\n",
       "    <tr>\n",
       "      <th>2000-01-01 04:00:00</th>\n",
       "      <td>12</td>\n",
       "      <td>5</td>\n",
       "    </tr>\n",
       "    <tr>\n",
       "      <th>...</th>\n",
       "      <td>...</td>\n",
       "      <td>...</td>\n",
       "    </tr>\n",
       "    <tr>\n",
       "      <th>2000-12-30 19:00:00</th>\n",
       "      <td>17</td>\n",
       "      <td>14</td>\n",
       "    </tr>\n",
       "    <tr>\n",
       "      <th>2000-12-30 20:00:00</th>\n",
       "      <td>17</td>\n",
       "      <td>13</td>\n",
       "    </tr>\n",
       "    <tr>\n",
       "      <th>2000-12-30 21:00:00</th>\n",
       "      <td>3</td>\n",
       "      <td>18</td>\n",
       "    </tr>\n",
       "    <tr>\n",
       "      <th>2000-12-30 22:00:00</th>\n",
       "      <td>12</td>\n",
       "      <td>6</td>\n",
       "    </tr>\n",
       "    <tr>\n",
       "      <th>2000-12-30 23:00:00</th>\n",
       "      <td>10</td>\n",
       "      <td>1</td>\n",
       "    </tr>\n",
       "  </tbody>\n",
       "</table>\n",
       "<p>8760 rows × 2 columns</p>\n",
       "</div>"
      ],
      "text/plain": [
       "                     col1  col2\n",
       "2000-01-01 00:00:00     4    16\n",
       "2000-01-01 01:00:00    11    15\n",
       "2000-01-01 02:00:00    18    16\n",
       "2000-01-01 03:00:00    11    18\n",
       "2000-01-01 04:00:00    12     5\n",
       "...                   ...   ...\n",
       "2000-12-30 19:00:00    17    14\n",
       "2000-12-30 20:00:00    17    13\n",
       "2000-12-30 21:00:00     3    18\n",
       "2000-12-30 22:00:00    12     6\n",
       "2000-12-30 23:00:00    10     1\n",
       "\n",
       "[8760 rows x 2 columns]"
      ]
     },
     "execution_count": 3,
     "metadata": {},
     "output_type": "execute_result"
    }
   ],
   "source": [
    "n_rows = 365*24\n",
    "n_cols = 2\n",
    "cols = ['col1','col2']\n",
    "\n",
    "df = pd.DataFrame(np.random.randint(1,20,size=(n_rows,n_cols)),columns=cols)\n",
    "df.index = pd.util.testing.makeDateIndex(n_rows,freq='H')\n",
    "df"
   ]
  },
  {
   "cell_type": "markdown",
   "metadata": {},
   "source": [
    "### [17.3] Resampling Data dengan Interval Monthly\n",
    "- .resample() akan membutuhkan parameter, dalam kasus ini \"m\" yang berarti akan merubah ke bulanan."
   ]
  },
  {
   "cell_type": "code",
   "execution_count": 4,
   "metadata": {},
   "outputs": [
    {
     "data": {
      "text/html": [
       "<div>\n",
       "<style scoped>\n",
       "    .dataframe tbody tr th:only-of-type {\n",
       "        vertical-align: middle;\n",
       "    }\n",
       "\n",
       "    .dataframe tbody tr th {\n",
       "        vertical-align: top;\n",
       "    }\n",
       "\n",
       "    .dataframe thead th {\n",
       "        text-align: right;\n",
       "    }\n",
       "</style>\n",
       "<table border=\"1\" class=\"dataframe\">\n",
       "  <thead>\n",
       "    <tr style=\"text-align: right;\">\n",
       "      <th></th>\n",
       "      <th>col1</th>\n",
       "    </tr>\n",
       "  </thead>\n",
       "  <tbody>\n",
       "    <tr>\n",
       "      <th>2000-01-31</th>\n",
       "      <td>7347</td>\n",
       "    </tr>\n",
       "    <tr>\n",
       "      <th>2000-02-29</th>\n",
       "      <td>7150</td>\n",
       "    </tr>\n",
       "    <tr>\n",
       "      <th>2000-03-31</th>\n",
       "      <td>7460</td>\n",
       "    </tr>\n",
       "    <tr>\n",
       "      <th>2000-04-30</th>\n",
       "      <td>6901</td>\n",
       "    </tr>\n",
       "    <tr>\n",
       "      <th>2000-05-31</th>\n",
       "      <td>7208</td>\n",
       "    </tr>\n",
       "    <tr>\n",
       "      <th>2000-06-30</th>\n",
       "      <td>7150</td>\n",
       "    </tr>\n",
       "    <tr>\n",
       "      <th>2000-07-31</th>\n",
       "      <td>7643</td>\n",
       "    </tr>\n",
       "    <tr>\n",
       "      <th>2000-08-31</th>\n",
       "      <td>7519</td>\n",
       "    </tr>\n",
       "    <tr>\n",
       "      <th>2000-09-30</th>\n",
       "      <td>7274</td>\n",
       "    </tr>\n",
       "    <tr>\n",
       "      <th>2000-10-31</th>\n",
       "      <td>7096</td>\n",
       "    </tr>\n",
       "    <tr>\n",
       "      <th>2000-11-30</th>\n",
       "      <td>7311</td>\n",
       "    </tr>\n",
       "    <tr>\n",
       "      <th>2000-12-31</th>\n",
       "      <td>7093</td>\n",
       "    </tr>\n",
       "  </tbody>\n",
       "</table>\n",
       "</div>"
      ],
      "text/plain": [
       "            col1\n",
       "2000-01-31  7347\n",
       "2000-02-29  7150\n",
       "2000-03-31  7460\n",
       "2000-04-30  6901\n",
       "2000-05-31  7208\n",
       "2000-06-30  7150\n",
       "2000-07-31  7643\n",
       "2000-08-31  7519\n",
       "2000-09-30  7274\n",
       "2000-10-31  7096\n",
       "2000-11-30  7311\n",
       "2000-12-31  7093"
      ]
     },
     "execution_count": 4,
     "metadata": {},
     "output_type": "execute_result"
    }
   ],
   "source": [
    "df.resample('M')['col1'].sum().to_frame()"
   ]
  },
  {
   "cell_type": "markdown",
   "metadata": {},
   "source": [
    "### [17.4] Resampling Data dengan Interval Daily"
   ]
  },
  {
   "cell_type": "code",
   "execution_count": 5,
   "metadata": {},
   "outputs": [
    {
     "data": {
      "text/html": [
       "<div>\n",
       "<style scoped>\n",
       "    .dataframe tbody tr th:only-of-type {\n",
       "        vertical-align: middle;\n",
       "    }\n",
       "\n",
       "    .dataframe tbody tr th {\n",
       "        vertical-align: top;\n",
       "    }\n",
       "\n",
       "    .dataframe thead th {\n",
       "        text-align: right;\n",
       "    }\n",
       "</style>\n",
       "<table border=\"1\" class=\"dataframe\">\n",
       "  <thead>\n",
       "    <tr style=\"text-align: right;\">\n",
       "      <th></th>\n",
       "      <th>col1</th>\n",
       "    </tr>\n",
       "  </thead>\n",
       "  <tbody>\n",
       "    <tr>\n",
       "      <th>2000-01-31</th>\n",
       "      <td>7347</td>\n",
       "    </tr>\n",
       "    <tr>\n",
       "      <th>2000-02-29</th>\n",
       "      <td>7150</td>\n",
       "    </tr>\n",
       "    <tr>\n",
       "      <th>2000-03-31</th>\n",
       "      <td>7460</td>\n",
       "    </tr>\n",
       "    <tr>\n",
       "      <th>2000-04-30</th>\n",
       "      <td>6901</td>\n",
       "    </tr>\n",
       "    <tr>\n",
       "      <th>2000-05-31</th>\n",
       "      <td>7208</td>\n",
       "    </tr>\n",
       "    <tr>\n",
       "      <th>2000-06-30</th>\n",
       "      <td>7150</td>\n",
       "    </tr>\n",
       "    <tr>\n",
       "      <th>2000-07-31</th>\n",
       "      <td>7643</td>\n",
       "    </tr>\n",
       "    <tr>\n",
       "      <th>2000-08-31</th>\n",
       "      <td>7519</td>\n",
       "    </tr>\n",
       "    <tr>\n",
       "      <th>2000-09-30</th>\n",
       "      <td>7274</td>\n",
       "    </tr>\n",
       "    <tr>\n",
       "      <th>2000-10-31</th>\n",
       "      <td>7096</td>\n",
       "    </tr>\n",
       "    <tr>\n",
       "      <th>2000-11-30</th>\n",
       "      <td>7311</td>\n",
       "    </tr>\n",
       "    <tr>\n",
       "      <th>2000-12-31</th>\n",
       "      <td>7093</td>\n",
       "    </tr>\n",
       "  </tbody>\n",
       "</table>\n",
       "</div>"
      ],
      "text/plain": [
       "            col1\n",
       "2000-01-31  7347\n",
       "2000-02-29  7150\n",
       "2000-03-31  7460\n",
       "2000-04-30  6901\n",
       "2000-05-31  7208\n",
       "2000-06-30  7150\n",
       "2000-07-31  7643\n",
       "2000-08-31  7519\n",
       "2000-09-30  7274\n",
       "2000-10-31  7096\n",
       "2000-11-30  7311\n",
       "2000-12-31  7093"
      ]
     },
     "execution_count": 5,
     "metadata": {},
     "output_type": "execute_result"
    }
   ],
   "source": [
    "df.resample('M')['col1'].sum().to_frame()"
   ]
  },
  {
   "cell_type": "markdown",
   "metadata": {},
   "source": [
    "## [18] Membentuk Dummy Data Frame"
   ]
  },
  {
   "cell_type": "markdown",
   "metadata": {},
   "source": [
    "### [18.1] Import Module"
   ]
  },
  {
   "cell_type": "code",
   "execution_count": 6,
   "metadata": {},
   "outputs": [
    {
     "name": "stdout",
     "output_type": "stream",
     "text": [
      "1.0.5\n",
      "1.18.5\n"
     ]
    }
   ],
   "source": [
    "import pandas as pd\n",
    "import numpy as np\n",
    "#mencetak versi pandas dan numpy yang akan digunakan\n",
    "print(pd.__version__)\n",
    "print(np.__version__)"
   ]
  },
  {
   "cell_type": "markdown",
   "metadata": {},
   "source": [
    "### [18.2] Membentuk Data Frame dari Dictionary\n",
    "- Data Frame yang terbentuk akan terdiri dari dua kolom\n",
    "- kolom yang pertama akan bernama 'col1' sedangkan kolom kedua akan bernama 'col2'\n",
    "- Masing-masing kolom akan berisi data seperti yang sudah tertera di baris perintah"
   ]
  },
  {
   "cell_type": "code",
   "execution_count": 7,
   "metadata": {},
   "outputs": [
    {
     "data": {
      "text/html": [
       "<div>\n",
       "<style scoped>\n",
       "    .dataframe tbody tr th:only-of-type {\n",
       "        vertical-align: middle;\n",
       "    }\n",
       "\n",
       "    .dataframe tbody tr th {\n",
       "        vertical-align: top;\n",
       "    }\n",
       "\n",
       "    .dataframe thead th {\n",
       "        text-align: right;\n",
       "    }\n",
       "</style>\n",
       "<table border=\"1\" class=\"dataframe\">\n",
       "  <thead>\n",
       "    <tr style=\"text-align: right;\">\n",
       "      <th></th>\n",
       "      <th>col1</th>\n",
       "      <th>col2</th>\n",
       "    </tr>\n",
       "  </thead>\n",
       "  <tbody>\n",
       "    <tr>\n",
       "      <th>0</th>\n",
       "      <td>1</td>\n",
       "      <td>5</td>\n",
       "    </tr>\n",
       "    <tr>\n",
       "      <th>1</th>\n",
       "      <td>2</td>\n",
       "      <td>6</td>\n",
       "    </tr>\n",
       "    <tr>\n",
       "      <th>2</th>\n",
       "      <td>3</td>\n",
       "      <td>7</td>\n",
       "    </tr>\n",
       "    <tr>\n",
       "      <th>3</th>\n",
       "      <td>4</td>\n",
       "      <td>8</td>\n",
       "    </tr>\n",
       "  </tbody>\n",
       "</table>\n",
       "</div>"
      ],
      "text/plain": [
       "   col1  col2\n",
       "0     1     5\n",
       "1     2     6\n",
       "2     3     7\n",
       "3     4     8"
      ]
     },
     "execution_count": 7,
     "metadata": {},
     "output_type": "execute_result"
    }
   ],
   "source": [
    "pd.DataFrame({'col1':[1,2,3,4],\n",
    "             'col2':[5,6,7,8]})"
   ]
  },
  {
   "cell_type": "markdown",
   "metadata": {},
   "source": [
    "### [18.3] Membentuk Data Frame dari Numpy Array\n",
    "- Membentuk Data Frame dengan ukuran baris 5 dan kolom 3\n",
    "- Isi dari Data Frame adalah angka random antara 1-20\n",
    "- parameter columns digunakan untuk menyertakan label pada Data Frame"
   ]
  },
  {
   "cell_type": "code",
   "execution_count": 8,
   "metadata": {},
   "outputs": [
    {
     "data": {
      "text/plain": [
       "array([[17,  4,  9],\n",
       "       [ 4, 19, 17],\n",
       "       [14, 11, 13],\n",
       "       [ 4, 10,  4],\n",
       "       [15,  6, 14]])"
      ]
     },
     "execution_count": 8,
     "metadata": {},
     "output_type": "execute_result"
    }
   ],
   "source": [
    "n_rows = 5\n",
    "n_cols = 3\n",
    "\n",
    "arr = np.random.randint(1,20,size=(n_rows,n_cols))\n",
    "arr"
   ]
  },
  {
   "cell_type": "code",
   "execution_count": 9,
   "metadata": {},
   "outputs": [
    {
     "data": {
      "text/html": [
       "<div>\n",
       "<style scoped>\n",
       "    .dataframe tbody tr th:only-of-type {\n",
       "        vertical-align: middle;\n",
       "    }\n",
       "\n",
       "    .dataframe tbody tr th {\n",
       "        vertical-align: top;\n",
       "    }\n",
       "\n",
       "    .dataframe thead th {\n",
       "        text-align: right;\n",
       "    }\n",
       "</style>\n",
       "<table border=\"1\" class=\"dataframe\">\n",
       "  <thead>\n",
       "    <tr style=\"text-align: right;\">\n",
       "      <th></th>\n",
       "      <th>A</th>\n",
       "      <th>B</th>\n",
       "      <th>C</th>\n",
       "    </tr>\n",
       "  </thead>\n",
       "  <tbody>\n",
       "    <tr>\n",
       "      <th>0</th>\n",
       "      <td>17</td>\n",
       "      <td>4</td>\n",
       "      <td>9</td>\n",
       "    </tr>\n",
       "    <tr>\n",
       "      <th>1</th>\n",
       "      <td>4</td>\n",
       "      <td>19</td>\n",
       "      <td>17</td>\n",
       "    </tr>\n",
       "    <tr>\n",
       "      <th>2</th>\n",
       "      <td>14</td>\n",
       "      <td>11</td>\n",
       "      <td>13</td>\n",
       "    </tr>\n",
       "    <tr>\n",
       "      <th>3</th>\n",
       "      <td>4</td>\n",
       "      <td>10</td>\n",
       "      <td>4</td>\n",
       "    </tr>\n",
       "    <tr>\n",
       "      <th>4</th>\n",
       "      <td>15</td>\n",
       "      <td>6</td>\n",
       "      <td>14</td>\n",
       "    </tr>\n",
       "  </tbody>\n",
       "</table>\n",
       "</div>"
      ],
      "text/plain": [
       "    A   B   C\n",
       "0  17   4   9\n",
       "1   4  19  17\n",
       "2  14  11  13\n",
       "3   4  10   4\n",
       "4  15   6  14"
      ]
     },
     "execution_count": 9,
     "metadata": {},
     "output_type": "execute_result"
    }
   ],
   "source": [
    "pd.DataFrame(arr,columns=tuple('ABC'))"
   ]
  },
  {
   "cell_type": "markdown",
   "metadata": {},
   "source": [
    "### [18.4] Membentuk Data Frame dengan pandas.util.testing\n",
    "- pd.util.testing.makeDataFrame().head() menghasilkan 5 nilai teratas dari data frame dengan nilai acak\n",
    "- pd.util.testing.makeMixedDataFrame().head() menghasilkan data frame dengan tipe data mixed\n",
    "- pd.util.testing.makeTimeDataFrame().head() menghasilkan data frame time series\n",
    "- pd.util.testing.makeMissingDataframe().head() menghasilkan data frame yang berisi NaN"
   ]
  },
  {
   "cell_type": "code",
   "execution_count": 10,
   "metadata": {},
   "outputs": [
    {
     "data": {
      "text/html": [
       "<div>\n",
       "<style scoped>\n",
       "    .dataframe tbody tr th:only-of-type {\n",
       "        vertical-align: middle;\n",
       "    }\n",
       "\n",
       "    .dataframe tbody tr th {\n",
       "        vertical-align: top;\n",
       "    }\n",
       "\n",
       "    .dataframe thead th {\n",
       "        text-align: right;\n",
       "    }\n",
       "</style>\n",
       "<table border=\"1\" class=\"dataframe\">\n",
       "  <thead>\n",
       "    <tr style=\"text-align: right;\">\n",
       "      <th></th>\n",
       "      <th>A</th>\n",
       "      <th>B</th>\n",
       "      <th>C</th>\n",
       "      <th>D</th>\n",
       "    </tr>\n",
       "  </thead>\n",
       "  <tbody>\n",
       "    <tr>\n",
       "      <th>xwd8jwvCKR</th>\n",
       "      <td>2.025275</td>\n",
       "      <td>0.743895</td>\n",
       "      <td>-1.176336</td>\n",
       "      <td>0.784684</td>\n",
       "    </tr>\n",
       "    <tr>\n",
       "      <th>AB310zgDTQ</th>\n",
       "      <td>1.818639</td>\n",
       "      <td>1.631153</td>\n",
       "      <td>0.455431</td>\n",
       "      <td>-1.293774</td>\n",
       "    </tr>\n",
       "    <tr>\n",
       "      <th>d0Ol2OPXvD</th>\n",
       "      <td>-1.166882</td>\n",
       "      <td>-0.546341</td>\n",
       "      <td>0.711994</td>\n",
       "      <td>0.622458</td>\n",
       "    </tr>\n",
       "    <tr>\n",
       "      <th>ztLto4x7TL</th>\n",
       "      <td>0.091206</td>\n",
       "      <td>-0.870398</td>\n",
       "      <td>-0.385730</td>\n",
       "      <td>1.368666</td>\n",
       "    </tr>\n",
       "    <tr>\n",
       "      <th>WLANEq51Sh</th>\n",
       "      <td>-0.527434</td>\n",
       "      <td>2.024866</td>\n",
       "      <td>-0.031467</td>\n",
       "      <td>-1.012879</td>\n",
       "    </tr>\n",
       "  </tbody>\n",
       "</table>\n",
       "</div>"
      ],
      "text/plain": [
       "                   A         B         C         D\n",
       "xwd8jwvCKR  2.025275  0.743895 -1.176336  0.784684\n",
       "AB310zgDTQ  1.818639  1.631153  0.455431 -1.293774\n",
       "d0Ol2OPXvD -1.166882 -0.546341  0.711994  0.622458\n",
       "ztLto4x7TL  0.091206 -0.870398 -0.385730  1.368666\n",
       "WLANEq51Sh -0.527434  2.024866 -0.031467 -1.012879"
      ]
     },
     "execution_count": 10,
     "metadata": {},
     "output_type": "execute_result"
    }
   ],
   "source": [
    "pd.util.testing.makeDataFrame().head()"
   ]
  },
  {
   "cell_type": "code",
   "execution_count": 11,
   "metadata": {},
   "outputs": [
    {
     "data": {
      "text/html": [
       "<div>\n",
       "<style scoped>\n",
       "    .dataframe tbody tr th:only-of-type {\n",
       "        vertical-align: middle;\n",
       "    }\n",
       "\n",
       "    .dataframe tbody tr th {\n",
       "        vertical-align: top;\n",
       "    }\n",
       "\n",
       "    .dataframe thead th {\n",
       "        text-align: right;\n",
       "    }\n",
       "</style>\n",
       "<table border=\"1\" class=\"dataframe\">\n",
       "  <thead>\n",
       "    <tr style=\"text-align: right;\">\n",
       "      <th></th>\n",
       "      <th>A</th>\n",
       "      <th>B</th>\n",
       "      <th>C</th>\n",
       "      <th>D</th>\n",
       "    </tr>\n",
       "  </thead>\n",
       "  <tbody>\n",
       "    <tr>\n",
       "      <th>0</th>\n",
       "      <td>0.0</td>\n",
       "      <td>0.0</td>\n",
       "      <td>foo1</td>\n",
       "      <td>2009-01-01</td>\n",
       "    </tr>\n",
       "    <tr>\n",
       "      <th>1</th>\n",
       "      <td>1.0</td>\n",
       "      <td>1.0</td>\n",
       "      <td>foo2</td>\n",
       "      <td>2009-01-02</td>\n",
       "    </tr>\n",
       "    <tr>\n",
       "      <th>2</th>\n",
       "      <td>2.0</td>\n",
       "      <td>0.0</td>\n",
       "      <td>foo3</td>\n",
       "      <td>2009-01-05</td>\n",
       "    </tr>\n",
       "    <tr>\n",
       "      <th>3</th>\n",
       "      <td>3.0</td>\n",
       "      <td>1.0</td>\n",
       "      <td>foo4</td>\n",
       "      <td>2009-01-06</td>\n",
       "    </tr>\n",
       "    <tr>\n",
       "      <th>4</th>\n",
       "      <td>4.0</td>\n",
       "      <td>0.0</td>\n",
       "      <td>foo5</td>\n",
       "      <td>2009-01-07</td>\n",
       "    </tr>\n",
       "  </tbody>\n",
       "</table>\n",
       "</div>"
      ],
      "text/plain": [
       "     A    B     C          D\n",
       "0  0.0  0.0  foo1 2009-01-01\n",
       "1  1.0  1.0  foo2 2009-01-02\n",
       "2  2.0  0.0  foo3 2009-01-05\n",
       "3  3.0  1.0  foo4 2009-01-06\n",
       "4  4.0  0.0  foo5 2009-01-07"
      ]
     },
     "execution_count": 11,
     "metadata": {},
     "output_type": "execute_result"
    }
   ],
   "source": [
    "pd.util.testing.makeMixedDataFrame().head()"
   ]
  },
  {
   "cell_type": "code",
   "execution_count": 12,
   "metadata": {},
   "outputs": [
    {
     "data": {
      "text/html": [
       "<div>\n",
       "<style scoped>\n",
       "    .dataframe tbody tr th:only-of-type {\n",
       "        vertical-align: middle;\n",
       "    }\n",
       "\n",
       "    .dataframe tbody tr th {\n",
       "        vertical-align: top;\n",
       "    }\n",
       "\n",
       "    .dataframe thead th {\n",
       "        text-align: right;\n",
       "    }\n",
       "</style>\n",
       "<table border=\"1\" class=\"dataframe\">\n",
       "  <thead>\n",
       "    <tr style=\"text-align: right;\">\n",
       "      <th></th>\n",
       "      <th>A</th>\n",
       "      <th>B</th>\n",
       "      <th>C</th>\n",
       "      <th>D</th>\n",
       "    </tr>\n",
       "  </thead>\n",
       "  <tbody>\n",
       "    <tr>\n",
       "      <th>2000-01-03</th>\n",
       "      <td>-0.975119</td>\n",
       "      <td>2.594905</td>\n",
       "      <td>-1.101080</td>\n",
       "      <td>0.430718</td>\n",
       "    </tr>\n",
       "    <tr>\n",
       "      <th>2000-01-04</th>\n",
       "      <td>-0.374013</td>\n",
       "      <td>-0.672527</td>\n",
       "      <td>0.126766</td>\n",
       "      <td>1.728706</td>\n",
       "    </tr>\n",
       "    <tr>\n",
       "      <th>2000-01-05</th>\n",
       "      <td>0.280898</td>\n",
       "      <td>1.073704</td>\n",
       "      <td>-0.930198</td>\n",
       "      <td>0.419677</td>\n",
       "    </tr>\n",
       "    <tr>\n",
       "      <th>2000-01-06</th>\n",
       "      <td>-0.841844</td>\n",
       "      <td>-1.287554</td>\n",
       "      <td>0.187635</td>\n",
       "      <td>0.378845</td>\n",
       "    </tr>\n",
       "    <tr>\n",
       "      <th>2000-01-07</th>\n",
       "      <td>-1.376904</td>\n",
       "      <td>1.970004</td>\n",
       "      <td>0.047597</td>\n",
       "      <td>0.918840</td>\n",
       "    </tr>\n",
       "  </tbody>\n",
       "</table>\n",
       "</div>"
      ],
      "text/plain": [
       "                   A         B         C         D\n",
       "2000-01-03 -0.975119  2.594905 -1.101080  0.430718\n",
       "2000-01-04 -0.374013 -0.672527  0.126766  1.728706\n",
       "2000-01-05  0.280898  1.073704 -0.930198  0.419677\n",
       "2000-01-06 -0.841844 -1.287554  0.187635  0.378845\n",
       "2000-01-07 -1.376904  1.970004  0.047597  0.918840"
      ]
     },
     "execution_count": 12,
     "metadata": {},
     "output_type": "execute_result"
    }
   ],
   "source": [
    "pd.util.testing.makeTimeDataFrame().head()"
   ]
  },
  {
   "cell_type": "code",
   "execution_count": 13,
   "metadata": {},
   "outputs": [
    {
     "data": {
      "text/html": [
       "<div>\n",
       "<style scoped>\n",
       "    .dataframe tbody tr th:only-of-type {\n",
       "        vertical-align: middle;\n",
       "    }\n",
       "\n",
       "    .dataframe tbody tr th {\n",
       "        vertical-align: top;\n",
       "    }\n",
       "\n",
       "    .dataframe thead th {\n",
       "        text-align: right;\n",
       "    }\n",
       "</style>\n",
       "<table border=\"1\" class=\"dataframe\">\n",
       "  <thead>\n",
       "    <tr style=\"text-align: right;\">\n",
       "      <th></th>\n",
       "      <th>A</th>\n",
       "      <th>B</th>\n",
       "      <th>C</th>\n",
       "      <th>D</th>\n",
       "    </tr>\n",
       "  </thead>\n",
       "  <tbody>\n",
       "    <tr>\n",
       "      <th>abYjWsESg4</th>\n",
       "      <td>NaN</td>\n",
       "      <td>0.345701</td>\n",
       "      <td>-1.527305</td>\n",
       "      <td>NaN</td>\n",
       "    </tr>\n",
       "    <tr>\n",
       "      <th>1BVPSCygD8</th>\n",
       "      <td>-0.885694</td>\n",
       "      <td>0.264411</td>\n",
       "      <td>-0.673291</td>\n",
       "      <td>-0.258060</td>\n",
       "    </tr>\n",
       "    <tr>\n",
       "      <th>sU4zqH1yE0</th>\n",
       "      <td>-0.751900</td>\n",
       "      <td>-0.930788</td>\n",
       "      <td>-0.482056</td>\n",
       "      <td>NaN</td>\n",
       "    </tr>\n",
       "    <tr>\n",
       "      <th>KX12jCcxh5</th>\n",
       "      <td>-0.573756</td>\n",
       "      <td>NaN</td>\n",
       "      <td>-1.312142</td>\n",
       "      <td>0.040154</td>\n",
       "    </tr>\n",
       "    <tr>\n",
       "      <th>sGtbLv0Fp5</th>\n",
       "      <td>NaN</td>\n",
       "      <td>-0.156594</td>\n",
       "      <td>1.462409</td>\n",
       "      <td>2.211806</td>\n",
       "    </tr>\n",
       "  </tbody>\n",
       "</table>\n",
       "</div>"
      ],
      "text/plain": [
       "                   A         B         C         D\n",
       "abYjWsESg4       NaN  0.345701 -1.527305       NaN\n",
       "1BVPSCygD8 -0.885694  0.264411 -0.673291 -0.258060\n",
       "sU4zqH1yE0 -0.751900 -0.930788 -0.482056       NaN\n",
       "KX12jCcxh5 -0.573756       NaN -1.312142  0.040154\n",
       "sGtbLv0Fp5       NaN -0.156594  1.462409  2.211806"
      ]
     },
     "execution_count": 13,
     "metadata": {},
     "output_type": "execute_result"
    }
   ],
   "source": [
    "pd.util.testing.makeMissingDataframe().head()"
   ]
  },
  {
   "cell_type": "markdown",
   "metadata": {},
   "source": [
    "### [19] Formatting Tampilan Data Frame"
   ]
  },
  {
   "cell_type": "markdown",
   "metadata": {},
   "source": [
    "### [19.1] Import Module"
   ]
  },
  {
   "cell_type": "code",
   "execution_count": 14,
   "metadata": {},
   "outputs": [
    {
     "name": "stdout",
     "output_type": "stream",
     "text": [
      "1.0.5\n",
      "1.18.5\n"
     ]
    }
   ],
   "source": [
    "import pandas as pd\n",
    "import numpy as np\n",
    "#mencetak versi pandas dan numpy yang akan digunakan\n",
    "print(pd.__version__)\n",
    "print(np.__version__)"
   ]
  },
  {
   "cell_type": "markdown",
   "metadata": {},
   "source": [
    "### [19.2] Persiapan Data Frame\n",
    "- Membuat Data Frame dengan kolom 'omset' dan 'operasional'\n",
    "- Mengubah format omset dan operasional kedalam bentuk puluhan ribu dan ratusan ribu\n",
    "- Membuat Date Index dengan interval Day dan mengubah nama kolom tersebut menjadi \"tanggal\""
   ]
  },
  {
   "cell_type": "code",
   "execution_count": 15,
   "metadata": {},
   "outputs": [
    {
     "data": {
      "text/html": [
       "<div>\n",
       "<style scoped>\n",
       "    .dataframe tbody tr th:only-of-type {\n",
       "        vertical-align: middle;\n",
       "    }\n",
       "\n",
       "    .dataframe tbody tr th {\n",
       "        vertical-align: top;\n",
       "    }\n",
       "\n",
       "    .dataframe thead th {\n",
       "        text-align: right;\n",
       "    }\n",
       "</style>\n",
       "<table border=\"1\" class=\"dataframe\">\n",
       "  <thead>\n",
       "    <tr style=\"text-align: right;\">\n",
       "      <th></th>\n",
       "      <th>omset</th>\n",
       "      <th>operasional</th>\n",
       "    </tr>\n",
       "  </thead>\n",
       "  <tbody>\n",
       "    <tr>\n",
       "      <th>0</th>\n",
       "      <td>9</td>\n",
       "      <td>13</td>\n",
       "    </tr>\n",
       "    <tr>\n",
       "      <th>1</th>\n",
       "      <td>6</td>\n",
       "      <td>2</td>\n",
       "    </tr>\n",
       "    <tr>\n",
       "      <th>2</th>\n",
       "      <td>11</td>\n",
       "      <td>14</td>\n",
       "    </tr>\n",
       "    <tr>\n",
       "      <th>3</th>\n",
       "      <td>6</td>\n",
       "      <td>2</td>\n",
       "    </tr>\n",
       "    <tr>\n",
       "      <th>4</th>\n",
       "      <td>10</td>\n",
       "      <td>16</td>\n",
       "    </tr>\n",
       "  </tbody>\n",
       "</table>\n",
       "</div>"
      ],
      "text/plain": [
       "   omset  operasional\n",
       "0      9           13\n",
       "1      6            2\n",
       "2     11           14\n",
       "3      6            2\n",
       "4     10           16"
      ]
     },
     "execution_count": 15,
     "metadata": {},
     "output_type": "execute_result"
    }
   ],
   "source": [
    "n_rows =5\n",
    "n_cols = 2\n",
    "cols = ['omset','operasional']\n",
    "\n",
    "df = pd.DataFrame(np.random.randint(1,20,size=(n_rows,n_cols)),columns=cols)\n",
    "df"
   ]
  },
  {
   "cell_type": "code",
   "execution_count": 16,
   "metadata": {},
   "outputs": [
    {
     "data": {
      "text/html": [
       "<div>\n",
       "<style scoped>\n",
       "    .dataframe tbody tr th:only-of-type {\n",
       "        vertical-align: middle;\n",
       "    }\n",
       "\n",
       "    .dataframe tbody tr th {\n",
       "        vertical-align: top;\n",
       "    }\n",
       "\n",
       "    .dataframe thead th {\n",
       "        text-align: right;\n",
       "    }\n",
       "</style>\n",
       "<table border=\"1\" class=\"dataframe\">\n",
       "  <thead>\n",
       "    <tr style=\"text-align: right;\">\n",
       "      <th></th>\n",
       "      <th>omset</th>\n",
       "      <th>operasional</th>\n",
       "    </tr>\n",
       "  </thead>\n",
       "  <tbody>\n",
       "    <tr>\n",
       "      <th>0</th>\n",
       "      <td>900000</td>\n",
       "      <td>130000</td>\n",
       "    </tr>\n",
       "    <tr>\n",
       "      <th>1</th>\n",
       "      <td>600000</td>\n",
       "      <td>20000</td>\n",
       "    </tr>\n",
       "    <tr>\n",
       "      <th>2</th>\n",
       "      <td>1100000</td>\n",
       "      <td>140000</td>\n",
       "    </tr>\n",
       "    <tr>\n",
       "      <th>3</th>\n",
       "      <td>600000</td>\n",
       "      <td>20000</td>\n",
       "    </tr>\n",
       "    <tr>\n",
       "      <th>4</th>\n",
       "      <td>1000000</td>\n",
       "      <td>160000</td>\n",
       "    </tr>\n",
       "  </tbody>\n",
       "</table>\n",
       "</div>"
      ],
      "text/plain": [
       "     omset  operasional\n",
       "0   900000       130000\n",
       "1   600000        20000\n",
       "2  1100000       140000\n",
       "3   600000        20000\n",
       "4  1000000       160000"
      ]
     },
     "execution_count": 16,
     "metadata": {},
     "output_type": "execute_result"
    }
   ],
   "source": [
    "df['omset']=df['omset']*100_000\n",
    "df['operasional']=df['operasional']*10_000\n",
    "df"
   ]
  },
  {
   "cell_type": "code",
   "execution_count": 17,
   "metadata": {},
   "outputs": [
    {
     "data": {
      "text/html": [
       "<div>\n",
       "<style scoped>\n",
       "    .dataframe tbody tr th:only-of-type {\n",
       "        vertical-align: middle;\n",
       "    }\n",
       "\n",
       "    .dataframe tbody tr th {\n",
       "        vertical-align: top;\n",
       "    }\n",
       "\n",
       "    .dataframe thead th {\n",
       "        text-align: right;\n",
       "    }\n",
       "</style>\n",
       "<table border=\"1\" class=\"dataframe\">\n",
       "  <thead>\n",
       "    <tr style=\"text-align: right;\">\n",
       "      <th></th>\n",
       "      <th>tanggal</th>\n",
       "      <th>omset</th>\n",
       "      <th>operasional</th>\n",
       "    </tr>\n",
       "  </thead>\n",
       "  <tbody>\n",
       "    <tr>\n",
       "      <th>0</th>\n",
       "      <td>2000-01-01</td>\n",
       "      <td>900000</td>\n",
       "      <td>130000</td>\n",
       "    </tr>\n",
       "    <tr>\n",
       "      <th>1</th>\n",
       "      <td>2000-01-02</td>\n",
       "      <td>600000</td>\n",
       "      <td>20000</td>\n",
       "    </tr>\n",
       "    <tr>\n",
       "      <th>2</th>\n",
       "      <td>2000-01-03</td>\n",
       "      <td>1100000</td>\n",
       "      <td>140000</td>\n",
       "    </tr>\n",
       "    <tr>\n",
       "      <th>3</th>\n",
       "      <td>2000-01-04</td>\n",
       "      <td>600000</td>\n",
       "      <td>20000</td>\n",
       "    </tr>\n",
       "    <tr>\n",
       "      <th>4</th>\n",
       "      <td>2000-01-05</td>\n",
       "      <td>1000000</td>\n",
       "      <td>160000</td>\n",
       "    </tr>\n",
       "  </tbody>\n",
       "</table>\n",
       "</div>"
      ],
      "text/plain": [
       "     tanggal    omset  operasional\n",
       "0 2000-01-01   900000       130000\n",
       "1 2000-01-02   600000        20000\n",
       "2 2000-01-03  1100000       140000\n",
       "3 2000-01-04   600000        20000\n",
       "4 2000-01-05  1000000       160000"
      ]
     },
     "execution_count": 17,
     "metadata": {},
     "output_type": "execute_result"
    }
   ],
   "source": [
    "df.index = pd.util.testing.makeDateIndex(n_rows,freq='D')\n",
    "df = df.reset_index()\n",
    "df = df.rename(columns={'index':'tanggal'})\n",
    "df"
   ]
  },
  {
   "cell_type": "markdown",
   "metadata": {},
   "source": [
    "### [19.3] Melakukan Formatting Tampilan Data Frame\n",
    "- Merubah format tanggal dan rupiah dalam data frame\n",
    "- type data pada variabel laporan bukan data frame melainkan pandas.io.formats.style.Styler , maka dari itu pada laporan tidak bisa dilakukan method .head()\n",
    "- untuk menyembunyikan index pada laporan dilakukan method .hide_index()\n",
    "- untuk melakukan set caption dilakukan .set_caption()\n",
    "- untuk data data penting dapat dilakukan highlight untuk masing-masing data"
   ]
  },
  {
   "cell_type": "code",
   "execution_count": 18,
   "metadata": {},
   "outputs": [
    {
     "data": {
      "text/html": [
       "<style  type=\"text/css\" >\n",
       "</style><table id=\"T_58722180_29d5_11ec_ba2a_9d5fe542e81b\" ><thead>    <tr>        <th class=\"blank level0\" ></th>        <th class=\"col_heading level0 col0\" >tanggal</th>        <th class=\"col_heading level0 col1\" >omset</th>        <th class=\"col_heading level0 col2\" >operasional</th>    </tr></thead><tbody>\n",
       "                <tr>\n",
       "                        <th id=\"T_58722180_29d5_11ec_ba2a_9d5fe542e81blevel0_row0\" class=\"row_heading level0 row0\" >0</th>\n",
       "                        <td id=\"T_58722180_29d5_11ec_ba2a_9d5fe542e81brow0_col0\" class=\"data row0 col0\" >01/01/00</td>\n",
       "                        <td id=\"T_58722180_29d5_11ec_ba2a_9d5fe542e81brow0_col1\" class=\"data row0 col1\" >Rp 900000.00</td>\n",
       "                        <td id=\"T_58722180_29d5_11ec_ba2a_9d5fe542e81brow0_col2\" class=\"data row0 col2\" >Rp 130000.00</td>\n",
       "            </tr>\n",
       "            <tr>\n",
       "                        <th id=\"T_58722180_29d5_11ec_ba2a_9d5fe542e81blevel0_row1\" class=\"row_heading level0 row1\" >1</th>\n",
       "                        <td id=\"T_58722180_29d5_11ec_ba2a_9d5fe542e81brow1_col0\" class=\"data row1 col0\" >02/01/00</td>\n",
       "                        <td id=\"T_58722180_29d5_11ec_ba2a_9d5fe542e81brow1_col1\" class=\"data row1 col1\" >Rp 600000.00</td>\n",
       "                        <td id=\"T_58722180_29d5_11ec_ba2a_9d5fe542e81brow1_col2\" class=\"data row1 col2\" >Rp 20000.00</td>\n",
       "            </tr>\n",
       "            <tr>\n",
       "                        <th id=\"T_58722180_29d5_11ec_ba2a_9d5fe542e81blevel0_row2\" class=\"row_heading level0 row2\" >2</th>\n",
       "                        <td id=\"T_58722180_29d5_11ec_ba2a_9d5fe542e81brow2_col0\" class=\"data row2 col0\" >03/01/00</td>\n",
       "                        <td id=\"T_58722180_29d5_11ec_ba2a_9d5fe542e81brow2_col1\" class=\"data row2 col1\" >Rp 1100000.00</td>\n",
       "                        <td id=\"T_58722180_29d5_11ec_ba2a_9d5fe542e81brow2_col2\" class=\"data row2 col2\" >Rp 140000.00</td>\n",
       "            </tr>\n",
       "            <tr>\n",
       "                        <th id=\"T_58722180_29d5_11ec_ba2a_9d5fe542e81blevel0_row3\" class=\"row_heading level0 row3\" >3</th>\n",
       "                        <td id=\"T_58722180_29d5_11ec_ba2a_9d5fe542e81brow3_col0\" class=\"data row3 col0\" >04/01/00</td>\n",
       "                        <td id=\"T_58722180_29d5_11ec_ba2a_9d5fe542e81brow3_col1\" class=\"data row3 col1\" >Rp 600000.00</td>\n",
       "                        <td id=\"T_58722180_29d5_11ec_ba2a_9d5fe542e81brow3_col2\" class=\"data row3 col2\" >Rp 20000.00</td>\n",
       "            </tr>\n",
       "            <tr>\n",
       "                        <th id=\"T_58722180_29d5_11ec_ba2a_9d5fe542e81blevel0_row4\" class=\"row_heading level0 row4\" >4</th>\n",
       "                        <td id=\"T_58722180_29d5_11ec_ba2a_9d5fe542e81brow4_col0\" class=\"data row4 col0\" >05/01/00</td>\n",
       "                        <td id=\"T_58722180_29d5_11ec_ba2a_9d5fe542e81brow4_col1\" class=\"data row4 col1\" >Rp 1000000.00</td>\n",
       "                        <td id=\"T_58722180_29d5_11ec_ba2a_9d5fe542e81brow4_col2\" class=\"data row4 col2\" >Rp 160000.00</td>\n",
       "            </tr>\n",
       "    </tbody></table>"
      ],
      "text/plain": [
       "<pandas.io.formats.style.Styler at 0x21b4bbd54c0>"
      ]
     },
     "execution_count": 18,
     "metadata": {},
     "output_type": "execute_result"
    }
   ],
   "source": [
    "formatku = {'tanggal':'{:%d/%m/%y}',\n",
    "           'operasional':'Rp {:.2f}',\n",
    "           'omset':'Rp {:.2f}'}\n",
    "laporan = df.style.format(formatku)\n",
    "laporan"
   ]
  },
  {
   "cell_type": "code",
   "execution_count": 19,
   "metadata": {},
   "outputs": [
    {
     "data": {
      "text/plain": [
       "pandas.io.formats.style.Styler"
      ]
     },
     "execution_count": 19,
     "metadata": {},
     "output_type": "execute_result"
    }
   ],
   "source": [
    "type(laporan)"
   ]
  },
  {
   "cell_type": "code",
   "execution_count": 20,
   "metadata": {},
   "outputs": [
    {
     "data": {
      "text/html": [
       "<style  type=\"text/css\" >\n",
       "</style><table id=\"T_64fa7575_29d5_11ec_a674_9d5fe542e81b\" ><thead>    <tr>        <th class=\"col_heading level0 col0\" >tanggal</th>        <th class=\"col_heading level0 col1\" >omset</th>        <th class=\"col_heading level0 col2\" >operasional</th>    </tr></thead><tbody>\n",
       "                <tr>\n",
       "                                <td id=\"T_64fa7575_29d5_11ec_a674_9d5fe542e81brow0_col0\" class=\"data row0 col0\" >01/01/00</td>\n",
       "                        <td id=\"T_64fa7575_29d5_11ec_a674_9d5fe542e81brow0_col1\" class=\"data row0 col1\" >Rp 900000.00</td>\n",
       "                        <td id=\"T_64fa7575_29d5_11ec_a674_9d5fe542e81brow0_col2\" class=\"data row0 col2\" >Rp 130000.00</td>\n",
       "            </tr>\n",
       "            <tr>\n",
       "                                <td id=\"T_64fa7575_29d5_11ec_a674_9d5fe542e81brow1_col0\" class=\"data row1 col0\" >02/01/00</td>\n",
       "                        <td id=\"T_64fa7575_29d5_11ec_a674_9d5fe542e81brow1_col1\" class=\"data row1 col1\" >Rp 600000.00</td>\n",
       "                        <td id=\"T_64fa7575_29d5_11ec_a674_9d5fe542e81brow1_col2\" class=\"data row1 col2\" >Rp 20000.00</td>\n",
       "            </tr>\n",
       "            <tr>\n",
       "                                <td id=\"T_64fa7575_29d5_11ec_a674_9d5fe542e81brow2_col0\" class=\"data row2 col0\" >03/01/00</td>\n",
       "                        <td id=\"T_64fa7575_29d5_11ec_a674_9d5fe542e81brow2_col1\" class=\"data row2 col1\" >Rp 1100000.00</td>\n",
       "                        <td id=\"T_64fa7575_29d5_11ec_a674_9d5fe542e81brow2_col2\" class=\"data row2 col2\" >Rp 140000.00</td>\n",
       "            </tr>\n",
       "            <tr>\n",
       "                                <td id=\"T_64fa7575_29d5_11ec_a674_9d5fe542e81brow3_col0\" class=\"data row3 col0\" >04/01/00</td>\n",
       "                        <td id=\"T_64fa7575_29d5_11ec_a674_9d5fe542e81brow3_col1\" class=\"data row3 col1\" >Rp 600000.00</td>\n",
       "                        <td id=\"T_64fa7575_29d5_11ec_a674_9d5fe542e81brow3_col2\" class=\"data row3 col2\" >Rp 20000.00</td>\n",
       "            </tr>\n",
       "            <tr>\n",
       "                                <td id=\"T_64fa7575_29d5_11ec_a674_9d5fe542e81brow4_col0\" class=\"data row4 col0\" >05/01/00</td>\n",
       "                        <td id=\"T_64fa7575_29d5_11ec_a674_9d5fe542e81brow4_col1\" class=\"data row4 col1\" >Rp 1000000.00</td>\n",
       "                        <td id=\"T_64fa7575_29d5_11ec_a674_9d5fe542e81brow4_col2\" class=\"data row4 col2\" >Rp 160000.00</td>\n",
       "            </tr>\n",
       "    </tbody></table>"
      ],
      "text/plain": [
       "<pandas.io.formats.style.Styler at 0x21b4bbd54c0>"
      ]
     },
     "execution_count": 20,
     "metadata": {},
     "output_type": "execute_result"
    }
   ],
   "source": [
    "laporan.hide_index()"
   ]
  },
  {
   "cell_type": "code",
   "execution_count": 21,
   "metadata": {},
   "outputs": [
    {
     "data": {
      "text/html": [
       "<style  type=\"text/css\" >\n",
       "</style><table id=\"T_71ecc28c_29d5_11ec_8449_9d5fe542e81b\" ><caption>Data Omset dan Operasional</caption><thead>    <tr>        <th class=\"col_heading level0 col0\" >tanggal</th>        <th class=\"col_heading level0 col1\" >omset</th>        <th class=\"col_heading level0 col2\" >operasional</th>    </tr></thead><tbody>\n",
       "                <tr>\n",
       "                                <td id=\"T_71ecc28c_29d5_11ec_8449_9d5fe542e81brow0_col0\" class=\"data row0 col0\" >01/01/00</td>\n",
       "                        <td id=\"T_71ecc28c_29d5_11ec_8449_9d5fe542e81brow0_col1\" class=\"data row0 col1\" >Rp 900000.00</td>\n",
       "                        <td id=\"T_71ecc28c_29d5_11ec_8449_9d5fe542e81brow0_col2\" class=\"data row0 col2\" >Rp 130000.00</td>\n",
       "            </tr>\n",
       "            <tr>\n",
       "                                <td id=\"T_71ecc28c_29d5_11ec_8449_9d5fe542e81brow1_col0\" class=\"data row1 col0\" >02/01/00</td>\n",
       "                        <td id=\"T_71ecc28c_29d5_11ec_8449_9d5fe542e81brow1_col1\" class=\"data row1 col1\" >Rp 600000.00</td>\n",
       "                        <td id=\"T_71ecc28c_29d5_11ec_8449_9d5fe542e81brow1_col2\" class=\"data row1 col2\" >Rp 20000.00</td>\n",
       "            </tr>\n",
       "            <tr>\n",
       "                                <td id=\"T_71ecc28c_29d5_11ec_8449_9d5fe542e81brow2_col0\" class=\"data row2 col0\" >03/01/00</td>\n",
       "                        <td id=\"T_71ecc28c_29d5_11ec_8449_9d5fe542e81brow2_col1\" class=\"data row2 col1\" >Rp 1100000.00</td>\n",
       "                        <td id=\"T_71ecc28c_29d5_11ec_8449_9d5fe542e81brow2_col2\" class=\"data row2 col2\" >Rp 140000.00</td>\n",
       "            </tr>\n",
       "            <tr>\n",
       "                                <td id=\"T_71ecc28c_29d5_11ec_8449_9d5fe542e81brow3_col0\" class=\"data row3 col0\" >04/01/00</td>\n",
       "                        <td id=\"T_71ecc28c_29d5_11ec_8449_9d5fe542e81brow3_col1\" class=\"data row3 col1\" >Rp 600000.00</td>\n",
       "                        <td id=\"T_71ecc28c_29d5_11ec_8449_9d5fe542e81brow3_col2\" class=\"data row3 col2\" >Rp 20000.00</td>\n",
       "            </tr>\n",
       "            <tr>\n",
       "                                <td id=\"T_71ecc28c_29d5_11ec_8449_9d5fe542e81brow4_col0\" class=\"data row4 col0\" >05/01/00</td>\n",
       "                        <td id=\"T_71ecc28c_29d5_11ec_8449_9d5fe542e81brow4_col1\" class=\"data row4 col1\" >Rp 1000000.00</td>\n",
       "                        <td id=\"T_71ecc28c_29d5_11ec_8449_9d5fe542e81brow4_col2\" class=\"data row4 col2\" >Rp 160000.00</td>\n",
       "            </tr>\n",
       "    </tbody></table>"
      ],
      "text/plain": [
       "<pandas.io.formats.style.Styler at 0x21b4bbd54c0>"
      ]
     },
     "execution_count": 21,
     "metadata": {},
     "output_type": "execute_result"
    }
   ],
   "source": [
    "laporan.set_caption('Data Omset dan Operasional')"
   ]
  },
  {
   "cell_type": "code",
   "execution_count": 22,
   "metadata": {},
   "outputs": [
    {
     "data": {
      "text/html": [
       "<style  type=\"text/css\" >\n",
       "    #T_a9ecef4f_29d5_11ec_98a5_9d5fe542e81brow1_col1 {\n",
       "            background-color:  pink;\n",
       "            : ;\n",
       "        }    #T_a9ecef4f_29d5_11ec_98a5_9d5fe542e81brow1_col2 {\n",
       "            background-color:  lightblue;\n",
       "            background-color:  grey;\n",
       "        }    #T_a9ecef4f_29d5_11ec_98a5_9d5fe542e81brow2_col1 {\n",
       "            : ;\n",
       "            background-color:  lightgreen;\n",
       "        }    #T_a9ecef4f_29d5_11ec_98a5_9d5fe542e81brow3_col1 {\n",
       "            background-color:  pink;\n",
       "            : ;\n",
       "        }    #T_a9ecef4f_29d5_11ec_98a5_9d5fe542e81brow3_col2 {\n",
       "            background-color:  lightblue;\n",
       "            background-color:  grey;\n",
       "        }</style><table id=\"T_a9ecef4f_29d5_11ec_98a5_9d5fe542e81b\" ><caption>Data Omset dan Operasional</caption><thead>    <tr>        <th class=\"col_heading level0 col0\" >tanggal</th>        <th class=\"col_heading level0 col1\" >omset</th>        <th class=\"col_heading level0 col2\" >operasional</th>    </tr></thead><tbody>\n",
       "                <tr>\n",
       "                                <td id=\"T_a9ecef4f_29d5_11ec_98a5_9d5fe542e81brow0_col0\" class=\"data row0 col0\" >01/01/00</td>\n",
       "                        <td id=\"T_a9ecef4f_29d5_11ec_98a5_9d5fe542e81brow0_col1\" class=\"data row0 col1\" >Rp 900000.00</td>\n",
       "                        <td id=\"T_a9ecef4f_29d5_11ec_98a5_9d5fe542e81brow0_col2\" class=\"data row0 col2\" >Rp 130000.00</td>\n",
       "            </tr>\n",
       "            <tr>\n",
       "                                <td id=\"T_a9ecef4f_29d5_11ec_98a5_9d5fe542e81brow1_col0\" class=\"data row1 col0\" >02/01/00</td>\n",
       "                        <td id=\"T_a9ecef4f_29d5_11ec_98a5_9d5fe542e81brow1_col1\" class=\"data row1 col1\" >Rp 600000.00</td>\n",
       "                        <td id=\"T_a9ecef4f_29d5_11ec_98a5_9d5fe542e81brow1_col2\" class=\"data row1 col2\" >Rp 20000.00</td>\n",
       "            </tr>\n",
       "            <tr>\n",
       "                                <td id=\"T_a9ecef4f_29d5_11ec_98a5_9d5fe542e81brow2_col0\" class=\"data row2 col0\" >03/01/00</td>\n",
       "                        <td id=\"T_a9ecef4f_29d5_11ec_98a5_9d5fe542e81brow2_col1\" class=\"data row2 col1\" >Rp 1100000.00</td>\n",
       "                        <td id=\"T_a9ecef4f_29d5_11ec_98a5_9d5fe542e81brow2_col2\" class=\"data row2 col2\" >Rp 140000.00</td>\n",
       "            </tr>\n",
       "            <tr>\n",
       "                                <td id=\"T_a9ecef4f_29d5_11ec_98a5_9d5fe542e81brow3_col0\" class=\"data row3 col0\" >04/01/00</td>\n",
       "                        <td id=\"T_a9ecef4f_29d5_11ec_98a5_9d5fe542e81brow3_col1\" class=\"data row3 col1\" >Rp 600000.00</td>\n",
       "                        <td id=\"T_a9ecef4f_29d5_11ec_98a5_9d5fe542e81brow3_col2\" class=\"data row3 col2\" >Rp 20000.00</td>\n",
       "            </tr>\n",
       "            <tr>\n",
       "                                <td id=\"T_a9ecef4f_29d5_11ec_98a5_9d5fe542e81brow4_col0\" class=\"data row4 col0\" >05/01/00</td>\n",
       "                        <td id=\"T_a9ecef4f_29d5_11ec_98a5_9d5fe542e81brow4_col1\" class=\"data row4 col1\" >Rp 1000000.00</td>\n",
       "                        <td id=\"T_a9ecef4f_29d5_11ec_98a5_9d5fe542e81brow4_col2\" class=\"data row4 col2\" >Rp 160000.00</td>\n",
       "            </tr>\n",
       "    </tbody></table>"
      ],
      "text/plain": [
       "<pandas.io.formats.style.Styler at 0x21b4bbd54c0>"
      ]
     },
     "execution_count": 22,
     "metadata": {},
     "output_type": "execute_result"
    }
   ],
   "source": [
    "laporan.highlight_min('omset',color='pink')\n",
    "laporan.highlight_max('omset',color='lightgreen')\n",
    "\n",
    "laporan.highlight_min('operasional',color='lightblue')\n",
    "laporan.highlight_min('operasional',color='grey')"
   ]
  },
  {
   "cell_type": "markdown",
   "metadata": {},
   "source": [
    "## [20] Menggabungkan (merge) dua Data Frame secara berdampingan\n",
    "- Mempersiapkan dua data frame\n",
    "- Menggabungkan dua"
   ]
  },
  {
   "cell_type": "markdown",
   "metadata": {},
   "source": [
    "### [20.1] Import Module"
   ]
  },
  {
   "cell_type": "code",
   "execution_count": 23,
   "metadata": {},
   "outputs": [
    {
     "name": "stdout",
     "output_type": "stream",
     "text": [
      "1.0.5\n"
     ]
    }
   ],
   "source": [
    "import pandas as pd\n",
    "print(pd.__version__)"
   ]
  },
  {
   "cell_type": "markdown",
   "metadata": {},
   "source": [
    "### [20.2] Persiapan Data Frame"
   ]
  },
  {
   "cell_type": "code",
   "execution_count": 24,
   "metadata": {},
   "outputs": [
    {
     "data": {
      "text/html": [
       "<div>\n",
       "<style scoped>\n",
       "    .dataframe tbody tr th:only-of-type {\n",
       "        vertical-align: middle;\n",
       "    }\n",
       "\n",
       "    .dataframe tbody tr th {\n",
       "        vertical-align: top;\n",
       "    }\n",
       "\n",
       "    .dataframe thead th {\n",
       "        text-align: right;\n",
       "    }\n",
       "</style>\n",
       "<table border=\"1\" class=\"dataframe\">\n",
       "  <thead>\n",
       "    <tr style=\"text-align: right;\">\n",
       "      <th></th>\n",
       "      <th>col1</th>\n",
       "      <th>col2</th>\n",
       "    </tr>\n",
       "  </thead>\n",
       "  <tbody>\n",
       "    <tr>\n",
       "      <th>0</th>\n",
       "      <td>1</td>\n",
       "      <td>10</td>\n",
       "    </tr>\n",
       "    <tr>\n",
       "      <th>1</th>\n",
       "      <td>2</td>\n",
       "      <td>20</td>\n",
       "    </tr>\n",
       "    <tr>\n",
       "      <th>2</th>\n",
       "      <td>3</td>\n",
       "      <td>30</td>\n",
       "    </tr>\n",
       "  </tbody>\n",
       "</table>\n",
       "</div>"
      ],
      "text/plain": [
       "   col1  col2\n",
       "0     1    10\n",
       "1     2    20\n",
       "2     3    30"
      ]
     },
     "execution_count": 24,
     "metadata": {},
     "output_type": "execute_result"
    }
   ],
   "source": [
    "d1 = {'col1':[1,2,3],\n",
    "     'col2':[10,20,30]}\n",
    "df1 = pd.DataFrame(d1)\n",
    "df1"
   ]
  },
  {
   "cell_type": "code",
   "execution_count": 25,
   "metadata": {},
   "outputs": [
    {
     "data": {
      "text/html": [
       "<div>\n",
       "<style scoped>\n",
       "    .dataframe tbody tr th:only-of-type {\n",
       "        vertical-align: middle;\n",
       "    }\n",
       "\n",
       "    .dataframe tbody tr th {\n",
       "        vertical-align: top;\n",
       "    }\n",
       "\n",
       "    .dataframe thead th {\n",
       "        text-align: right;\n",
       "    }\n",
       "</style>\n",
       "<table border=\"1\" class=\"dataframe\">\n",
       "  <thead>\n",
       "    <tr style=\"text-align: right;\">\n",
       "      <th></th>\n",
       "      <th>col1</th>\n",
       "      <th>col2</th>\n",
       "    </tr>\n",
       "  </thead>\n",
       "  <tbody>\n",
       "    <tr>\n",
       "      <th>0</th>\n",
       "      <td>4</td>\n",
       "      <td>40</td>\n",
       "    </tr>\n",
       "    <tr>\n",
       "      <th>1</th>\n",
       "      <td>5</td>\n",
       "      <td>50</td>\n",
       "    </tr>\n",
       "    <tr>\n",
       "      <th>2</th>\n",
       "      <td>6</td>\n",
       "      <td>60</td>\n",
       "    </tr>\n",
       "  </tbody>\n",
       "</table>\n",
       "</div>"
      ],
      "text/plain": [
       "   col1  col2\n",
       "0     4    40\n",
       "1     5    50\n",
       "2     6    60"
      ]
     },
     "execution_count": 25,
     "metadata": {},
     "output_type": "execute_result"
    }
   ],
   "source": [
    "d2 = {'col1':[4,5,6],\n",
    "     'col2':[40,50,60]}\n",
    "df2 = pd.DataFrame(d2)\n",
    "df2"
   ]
  },
  {
   "cell_type": "markdown",
   "metadata": {},
   "source": [
    "### [20.3] Menggabungkan dua Data Frame"
   ]
  },
  {
   "cell_type": "code",
   "execution_count": 26,
   "metadata": {},
   "outputs": [
    {
     "data": {
      "text/html": [
       "<div>\n",
       "<style scoped>\n",
       "    .dataframe tbody tr th:only-of-type {\n",
       "        vertical-align: middle;\n",
       "    }\n",
       "\n",
       "    .dataframe tbody tr th {\n",
       "        vertical-align: top;\n",
       "    }\n",
       "\n",
       "    .dataframe thead th {\n",
       "        text-align: right;\n",
       "    }\n",
       "</style>\n",
       "<table border=\"1\" class=\"dataframe\">\n",
       "  <thead>\n",
       "    <tr style=\"text-align: right;\">\n",
       "      <th></th>\n",
       "      <th>col1_x</th>\n",
       "      <th>col2_x</th>\n",
       "      <th>col1_y</th>\n",
       "      <th>col2_y</th>\n",
       "    </tr>\n",
       "  </thead>\n",
       "  <tbody>\n",
       "    <tr>\n",
       "      <th>0</th>\n",
       "      <td>1</td>\n",
       "      <td>10</td>\n",
       "      <td>4</td>\n",
       "      <td>40</td>\n",
       "    </tr>\n",
       "    <tr>\n",
       "      <th>1</th>\n",
       "      <td>2</td>\n",
       "      <td>20</td>\n",
       "      <td>5</td>\n",
       "      <td>50</td>\n",
       "    </tr>\n",
       "    <tr>\n",
       "      <th>2</th>\n",
       "      <td>3</td>\n",
       "      <td>30</td>\n",
       "      <td>6</td>\n",
       "      <td>60</td>\n",
       "    </tr>\n",
       "  </tbody>\n",
       "</table>\n",
       "</div>"
      ],
      "text/plain": [
       "   col1_x  col2_x  col1_y  col2_y\n",
       "0       1      10       4      40\n",
       "1       2      20       5      50\n",
       "2       3      30       6      60"
      ]
     },
     "execution_count": 26,
     "metadata": {},
     "output_type": "execute_result"
    }
   ],
   "source": [
    "df = pd.merge(df1,df2,left_index=True,right_index=True)\n",
    "df"
   ]
  },
  {
   "cell_type": "code",
   "execution_count": null,
   "metadata": {},
   "outputs": [],
   "source": []
  }
 ],
 "metadata": {
  "kernelspec": {
   "display_name": "Python 3",
   "language": "python",
   "name": "python3"
  },
  "language_info": {
   "codemirror_mode": {
    "name": "ipython",
    "version": 3
   },
   "file_extension": ".py",
   "mimetype": "text/x-python",
   "name": "python",
   "nbconvert_exporter": "python",
   "pygments_lexer": "ipython3",
   "version": "3.8.3"
  }
 },
 "nbformat": 4,
 "nbformat_minor": 4
}
